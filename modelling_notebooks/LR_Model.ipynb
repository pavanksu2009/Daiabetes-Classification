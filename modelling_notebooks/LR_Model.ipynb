{
 "cells": [
  {
   "cell_type": "code",
   "execution_count": 2,
   "metadata": {},
   "outputs": [
    {
     "name": "stdout",
     "output_type": "stream",
     "text": [
      "Requirement already satisfied: imblearn in c:\\users\\pavan\\downloads\\e2e_ds_projects\\diabetes-classification\\dcenv\\lib\\site-packages (0.0)\n",
      "Requirement already satisfied: imbalanced-learn in c:\\users\\pavan\\downloads\\e2e_ds_projects\\diabetes-classification\\dcenv\\lib\\site-packages (from imblearn) (0.11.0)\n",
      "Requirement already satisfied: joblib>=1.1.1 in c:\\users\\pavan\\downloads\\e2e_ds_projects\\diabetes-classification\\dcenv\\lib\\site-packages (from imbalanced-learn->imblearn) (1.3.2)\n",
      "Requirement already satisfied: threadpoolctl>=2.0.0 in c:\\users\\pavan\\downloads\\e2e_ds_projects\\diabetes-classification\\dcenv\\lib\\site-packages (from imbalanced-learn->imblearn) (3.1.0)\n",
      "Requirement already satisfied: scikit-learn>=1.0.2 in c:\\users\\pavan\\downloads\\e2e_ds_projects\\diabetes-classification\\dcenv\\lib\\site-packages (from imbalanced-learn->imblearn) (1.0.2)\n",
      "Requirement already satisfied: scipy>=1.5.0 in c:\\users\\pavan\\downloads\\e2e_ds_projects\\diabetes-classification\\dcenv\\lib\\site-packages (from imbalanced-learn->imblearn) (1.7.3)\n",
      "Requirement already satisfied: numpy>=1.17.3 in c:\\users\\pavan\\downloads\\e2e_ds_projects\\diabetes-classification\\dcenv\\lib\\site-packages (from imbalanced-learn->imblearn) (1.21.6)\n"
     ]
    }
   ],
   "source": [
    "!pip install imblearn\n",
    "\n",
    "import os\n",
    "\n",
    "import pandas as pd\n",
    "import numpy as np\n",
    "\n",
    "# Matplotlib for visualization\n",
    "from matplotlib import pyplot as plt\n",
    "\n",
    "# display plots in the notebook\n",
    "%matplotlib inline\n",
    "\n",
    "# Seaborn for easier visualization\n",
    "import seaborn as sns\n",
    "\n",
    "# scikit-learn\n",
    "from sklearn.model_selection import train_test_split\n",
    "\n",
    "from sklearn.preprocessing import MinMaxScaler, OneHotEncoder, LabelEncoder\n",
    "from sklearn.compose import ColumnTransformer, make_column_transformer\n",
    "from sklearn.pipeline import make_pipeline\n",
    "\n",
    "# Classification metrics\n",
    "from sklearn.metrics import confusion_matrix, classification_report\n",
    "\n",
    "# Function for creating model pipelines - sklearn\n",
    "from sklearn.pipeline import make_pipeline\n",
    "\n",
    "# Function for creating model pipelines - imblearn\n",
    "from imblearn.pipeline import make_pipeline as imbl_pipe\n",
    "\n",
    "# Over-sampling using SMOTE\n",
    "from imblearn.over_sampling import SMOTE\n"
   ]
  },
  {
   "cell_type": "code",
   "execution_count": 3,
   "metadata": {},
   "outputs": [
    {
     "data": {
      "text/html": [
       "<div>\n",
       "<style scoped>\n",
       "    .dataframe tbody tr th:only-of-type {\n",
       "        vertical-align: middle;\n",
       "    }\n",
       "\n",
       "    .dataframe tbody tr th {\n",
       "        vertical-align: top;\n",
       "    }\n",
       "\n",
       "    .dataframe thead th {\n",
       "        text-align: right;\n",
       "    }\n",
       "</style>\n",
       "<table border=\"1\" class=\"dataframe\">\n",
       "  <thead>\n",
       "    <tr style=\"text-align: right;\">\n",
       "      <th></th>\n",
       "      <th>preg</th>\n",
       "      <th>plas</th>\n",
       "      <th>pres</th>\n",
       "      <th>skin</th>\n",
       "      <th>test</th>\n",
       "      <th>mass</th>\n",
       "      <th>pedi</th>\n",
       "      <th>age</th>\n",
       "      <th>class</th>\n",
       "    </tr>\n",
       "  </thead>\n",
       "  <tbody>\n",
       "    <tr>\n",
       "      <th>0</th>\n",
       "      <td>6.0</td>\n",
       "      <td>148.0</td>\n",
       "      <td>72.0</td>\n",
       "      <td>35.0</td>\n",
       "      <td>30.5</td>\n",
       "      <td>33.6</td>\n",
       "      <td>0.627000</td>\n",
       "      <td>50.0</td>\n",
       "      <td>1</td>\n",
       "    </tr>\n",
       "    <tr>\n",
       "      <th>1</th>\n",
       "      <td>1.0</td>\n",
       "      <td>85.0</td>\n",
       "      <td>66.0</td>\n",
       "      <td>29.0</td>\n",
       "      <td>30.5</td>\n",
       "      <td>26.6</td>\n",
       "      <td>0.351000</td>\n",
       "      <td>31.0</td>\n",
       "      <td>0</td>\n",
       "    </tr>\n",
       "    <tr>\n",
       "      <th>2</th>\n",
       "      <td>8.0</td>\n",
       "      <td>183.0</td>\n",
       "      <td>64.0</td>\n",
       "      <td>23.0</td>\n",
       "      <td>30.5</td>\n",
       "      <td>23.3</td>\n",
       "      <td>0.672000</td>\n",
       "      <td>32.0</td>\n",
       "      <td>1</td>\n",
       "    </tr>\n",
       "    <tr>\n",
       "      <th>3</th>\n",
       "      <td>1.0</td>\n",
       "      <td>89.0</td>\n",
       "      <td>66.0</td>\n",
       "      <td>23.0</td>\n",
       "      <td>94.0</td>\n",
       "      <td>28.1</td>\n",
       "      <td>0.167000</td>\n",
       "      <td>21.0</td>\n",
       "      <td>0</td>\n",
       "    </tr>\n",
       "    <tr>\n",
       "      <th>4</th>\n",
       "      <td>0.0</td>\n",
       "      <td>137.0</td>\n",
       "      <td>40.0</td>\n",
       "      <td>35.0</td>\n",
       "      <td>168.0</td>\n",
       "      <td>43.1</td>\n",
       "      <td>0.471876</td>\n",
       "      <td>33.0</td>\n",
       "      <td>1</td>\n",
       "    </tr>\n",
       "  </tbody>\n",
       "</table>\n",
       "</div>"
      ],
      "text/plain": [
       "   preg   plas  pres  skin   test  mass      pedi   age  class\n",
       "0   6.0  148.0  72.0  35.0   30.5  33.6  0.627000  50.0      1\n",
       "1   1.0   85.0  66.0  29.0   30.5  26.6  0.351000  31.0      0\n",
       "2   8.0  183.0  64.0  23.0   30.5  23.3  0.672000  32.0      1\n",
       "3   1.0   89.0  66.0  23.0   94.0  28.1  0.167000  21.0      0\n",
       "4   0.0  137.0  40.0  35.0  168.0  43.1  0.471876  33.0      1"
      ]
     },
     "execution_count": 3,
     "metadata": {},
     "output_type": "execute_result"
    }
   ],
   "source": [
    "abt = pd.read_csv(\"../Resources/Analytical_Base_Table.csv\")\n",
    "abt.head()"
   ]
  },
  {
   "cell_type": "markdown",
   "metadata": {},
   "source": [
    "## Models Training"
   ]
  },
  {
   "cell_type": "markdown",
   "metadata": {},
   "source": [
    "## Let's start by splitting our dataframe into separate objects:\n",
    "\n",
    "y for the target varibale\n",
    "\n",
    "X for the input features"
   ]
  },
  {
   "cell_type": "code",
   "execution_count": 4,
   "metadata": {},
   "outputs": [
    {
     "name": "stdout",
     "output_type": "stream",
     "text": [
      "(768, 8) (768,)\n"
     ]
    }
   ],
   "source": [
    "X = abt.drop([\"class\"], axis=1)\n",
    "\n",
    "y = abt[\"class\"]\n",
    "\n",
    "# display shapes of X and y\n",
    "print(X.shape, y.shape)"
   ]
  },
  {
   "cell_type": "code",
   "execution_count": 5,
   "metadata": {},
   "outputs": [
    {
     "data": {
      "text/plain": [
       "['preg', 'plas', 'pres', 'skin', 'test', 'mass', 'pedi', 'age']"
      ]
     },
     "execution_count": 5,
     "metadata": {},
     "output_type": "execute_result"
    }
   ],
   "source": [
    "# List numerical features\n",
    "num_colums = X.select_dtypes(include='number').columns.tolist()\n",
    "num_colums"
   ]
  },
  {
   "cell_type": "code",
   "execution_count": 6,
   "metadata": {},
   "outputs": [
    {
     "data": {
      "text/plain": [
       "[]"
      ]
     },
     "execution_count": 6,
     "metadata": {},
     "output_type": "execute_result"
    }
   ],
   "source": [
    "# List categorical features\n",
    "cat_columns = X.select_dtypes(include='object').columns.tolist()\n",
    "cat_columns"
   ]
  },
  {
   "cell_type": "code",
   "execution_count": 7,
   "metadata": {},
   "outputs": [
    {
     "data": {
      "text/html": [
       "<div>\n",
       "<style scoped>\n",
       "    .dataframe tbody tr th:only-of-type {\n",
       "        vertical-align: middle;\n",
       "    }\n",
       "\n",
       "    .dataframe tbody tr th {\n",
       "        vertical-align: top;\n",
       "    }\n",
       "\n",
       "    .dataframe thead th {\n",
       "        text-align: right;\n",
       "    }\n",
       "</style>\n",
       "<table border=\"1\" class=\"dataframe\">\n",
       "  <thead>\n",
       "    <tr style=\"text-align: right;\">\n",
       "      <th></th>\n",
       "      <th>Target</th>\n",
       "      <th>Diabetic</th>\n",
       "      <th>Diabetic %</th>\n",
       "    </tr>\n",
       "  </thead>\n",
       "  <tbody>\n",
       "    <tr>\n",
       "      <th>0</th>\n",
       "      <td>0</td>\n",
       "      <td>500</td>\n",
       "      <td>65.1</td>\n",
       "    </tr>\n",
       "    <tr>\n",
       "      <th>1</th>\n",
       "      <td>1</td>\n",
       "      <td>268</td>\n",
       "      <td>34.9</td>\n",
       "    </tr>\n",
       "  </tbody>\n",
       "</table>\n",
       "</div>"
      ],
      "text/plain": [
       "   Target  Diabetic  Diabetic %\n",
       "0       0       500        65.1\n",
       "1       1       268        34.9"
      ]
     },
     "execution_count": 7,
     "metadata": {},
     "output_type": "execute_result"
    }
   ],
   "source": [
    "# distribution of diabetics\n",
    "col1 = y.value_counts()\n",
    "col2 = y.value_counts(normalize=True)*100\n",
    "pd.DataFrame(data={'Target':[0,1],'Diabetic':col1,'Diabetic %':col2.round(2)})"
   ]
  },
  {
   "attachments": {},
   "cell_type": "markdown",
   "metadata": {},
   "source": [
    "About 35% of people are Diabetic and 65% of the people are non-Diabetic. "
   ]
  },
  {
   "cell_type": "markdown",
   "metadata": {},
   "source": [
    "## Create a Train Test Split\n",
    "\n",
    "We will continue with splitting our data into separate training and test sets.\n",
    "\n",
    "30% of observations will be set aside for the test set\n",
    "\n",
    "the rest, 70%, will be used as the training set"
   ]
  },
  {
   "cell_type": "code",
   "execution_count": 8,
   "metadata": {},
   "outputs": [
    {
     "name": "stdout",
     "output_type": "stream",
     "text": [
      "537 231 537 231\n"
     ]
    }
   ],
   "source": [
    "random_state = 10\n",
    "\n",
    "# Split X and y into train and test sets\n",
    "X_train, X_test, y_train, y_test = train_test_split(X, y,\n",
    "                                                    test_size=0.3,\n",
    "                                                    random_state=random_state)\n",
    "\n",
    "# Print number of observations in X_train, X_test, y_train, and y_test\n",
    "print(len(X_train), len(X_test), len(y_train), len(y_test))"
   ]
  },
  {
   "cell_type": "code",
   "execution_count": 9,
   "metadata": {},
   "outputs": [
    {
     "name": "stdout",
     "output_type": "stream",
     "text": [
      "<class 'pandas.core.frame.DataFrame'>\n",
      "Int64Index: 537 entries, 491 to 265\n",
      "Data columns (total 8 columns):\n",
      " #   Column  Non-Null Count  Dtype  \n",
      "---  ------  --------------  -----  \n",
      " 0   preg    537 non-null    float64\n",
      " 1   plas    537 non-null    float64\n",
      " 2   pres    537 non-null    float64\n",
      " 3   skin    537 non-null    float64\n",
      " 4   test    537 non-null    float64\n",
      " 5   mass    537 non-null    float64\n",
      " 6   pedi    537 non-null    float64\n",
      " 7   age     537 non-null    float64\n",
      "dtypes: float64(8)\n",
      "memory usage: 37.8 KB\n"
     ]
    }
   ],
   "source": [
    "X_train.info()"
   ]
  },
  {
   "cell_type": "markdown",
   "metadata": {},
   "source": [
    "## Pre-processing Pipeline\n",
    " \n",
    " ##Scale numerical data and encode categorical data\n",
    "Construct a pre-processing pipeline from the given transformers: MinMaxScaler and OneHotEncoder Create lists of indexes from the list of column namesNeed to be numeric not string to specify columns name in column transformer"
   ]
  },
  {
   "cell_type": "code",
   "execution_count": 10,
   "metadata": {},
   "outputs": [
    {
     "name": "stdout",
     "output_type": "stream",
     "text": [
      "[0, 1, 2, 3, 4, 5, 6, 7]\n"
     ]
    }
   ],
   "source": [
    "num_features = [] \n",
    "\n",
    "for i in num_colums:\n",
    "    location = X.columns.get_loc(i)\n",
    "    num_features.append(location)\n",
    "print(num_features)  "
   ]
  },
  {
   "cell_type": "code",
   "execution_count": 11,
   "metadata": {},
   "outputs": [
    {
     "name": "stdout",
     "output_type": "stream",
     "text": [
      "[]\n"
     ]
    }
   ],
   "source": [
    "cat_features = []\n",
    "\n",
    "for i in cat_columns:\n",
    "    location = X.columns.get_loc(i)\n",
    "    cat_features.append(location)\n",
    "print(cat_features) "
   ]
  },
  {
   "cell_type": "code",
   "execution_count": 12,
   "metadata": {},
   "outputs": [
    {
     "data": {
      "text/plain": [
       "ColumnTransformer(transformers=[('minmaxscaler', MinMaxScaler(),\n",
       "                                 [0, 1, 2, 3, 4, 5, 6, 7]),\n",
       "                                ('onehotencoder', OneHotEncoder(sparse=False),\n",
       "                                 [])])"
      ]
     },
     "execution_count": 12,
     "metadata": {},
     "output_type": "execute_result"
    }
   ],
   "source": [
    "# Define column transformer\n",
    "# Need to be numeric not string to specify columns name \n",
    "preprocess = make_column_transformer(\n",
    "    (MinMaxScaler(), num_features),\n",
    "    (OneHotEncoder(sparse=False), cat_features)\n",
    ")\n",
    "preprocess"
   ]
  },
  {
   "cell_type": "code",
   "execution_count": 13,
   "metadata": {},
   "outputs": [
    {
     "data": {
      "text/plain": [
       "Pipeline(steps=[('columntransformer',\n",
       "                 ColumnTransformer(transformers=[('minmaxscaler',\n",
       "                                                  MinMaxScaler(),\n",
       "                                                  [0, 1, 2, 3, 4, 5, 6, 7]),\n",
       "                                                 ('onehotencoder',\n",
       "                                                  OneHotEncoder(sparse=False),\n",
       "                                                  [])])),\n",
       "                ('smote', SMOTE(random_state=10)),\n",
       "                ('logisticregression', LogisticRegression(random_state=10))])"
      ]
     },
     "execution_count": 13,
     "metadata": {},
     "output_type": "execute_result"
    }
   ],
   "source": [
    "# Import classifier\n",
    "from sklearn.linear_model import LogisticRegression \n",
    "\n",
    "# Define model with pipeline\n",
    "model = imbl_pipe(preprocess,\n",
    "                  SMOTE(sampling_strategy='auto', random_state=random_state),\n",
    "                  LogisticRegression(random_state=random_state))\n",
    "\n",
    "model"
   ]
  },
  {
   "cell_type": "code",
   "execution_count": 14,
   "metadata": {},
   "outputs": [],
   "source": [
    " # Create the GridSearchCV model\n",
    "# Create the GridSearch estimator along with a parameter object containing the values to adjust\n",
    "from sklearn.model_selection import GridSearchCV\n",
    "lr_param_grid = {\n",
    "    'logisticregression__C' : [0.01, 0.05, 0.1, 0.5, 1, 5],\n",
    "    'logisticregression__solver' : ['liblinear', 'newton-cg', 'lbfgs', 'sag', 'saga']\n",
    "}\n",
    "\n",
    "lr_grid = GridSearchCV(model, lr_param_grid, verbose=3, cv= 5, scoring='accuracy')"
   ]
  },
  {
   "cell_type": "code",
   "execution_count": 15,
   "metadata": {
    "scrolled": true
   },
   "outputs": [
    {
     "name": "stdout",
     "output_type": "stream",
     "text": [
      "Fitting 5 folds for each of 30 candidates, totalling 150 fits\n",
      "[CV 1/5] END logisticregression__C=0.01, logisticregression__solver=liblinear;, score=0.463 total time=   0.0s\n",
      "[CV 2/5] END logisticregression__C=0.01, logisticregression__solver=liblinear;, score=0.620 total time=   0.0s\n",
      "[CV 3/5] END logisticregression__C=0.01, logisticregression__solver=liblinear;, score=0.495 total time=   0.0s\n",
      "[CV 4/5] END logisticregression__C=0.01, logisticregression__solver=liblinear;, score=0.523 total time=   0.0s\n",
      "[CV 5/5] END logisticregression__C=0.01, logisticregression__solver=liblinear;, score=0.486 total time=   0.0s\n",
      "[CV 1/5] END logisticregression__C=0.01, logisticregression__solver=newton-cg;, score=0.759 total time=   0.0s\n",
      "[CV 2/5] END logisticregression__C=0.01, logisticregression__solver=newton-cg;, score=0.750 total time=   0.0s\n",
      "[CV 3/5] END logisticregression__C=0.01, logisticregression__solver=newton-cg;, score=0.664 total time=   0.0s\n",
      "[CV 4/5] END logisticregression__C=0.01, logisticregression__solver=newton-cg;, score=0.804 total time=   0.0s\n",
      "[CV 5/5] END logisticregression__C=0.01, logisticregression__solver=newton-cg;, score=0.673 total time=   0.0s\n",
      "[CV 1/5] END logisticregression__C=0.01, logisticregression__solver=lbfgs;, score=0.759 total time=   0.0s\n",
      "[CV 2/5] END logisticregression__C=0.01, logisticregression__solver=lbfgs;, score=0.750 total time=   0.0s\n",
      "[CV 3/5] END logisticregression__C=0.01, logisticregression__solver=lbfgs;, score=0.664 total time=   0.0s\n",
      "[CV 4/5] END logisticregression__C=0.01, logisticregression__solver=lbfgs;, score=0.804 total time=   0.0s\n",
      "[CV 5/5] END logisticregression__C=0.01, logisticregression__solver=lbfgs;, score=0.673 total time=   0.0s\n",
      "[CV 1/5] END logisticregression__C=0.01, logisticregression__solver=sag;, score=0.759 total time=   0.0s\n",
      "[CV 2/5] END logisticregression__C=0.01, logisticregression__solver=sag;, score=0.750 total time=   0.0s\n",
      "[CV 3/5] END logisticregression__C=0.01, logisticregression__solver=sag;, score=0.664 total time=   0.0s\n",
      "[CV 4/5] END logisticregression__C=0.01, logisticregression__solver=sag;, score=0.804 total time=   0.0s\n",
      "[CV 5/5] END logisticregression__C=0.01, logisticregression__solver=sag;, score=0.673 total time=   0.0s\n",
      "[CV 1/5] END logisticregression__C=0.01, logisticregression__solver=saga;, score=0.759 total time=   0.0s\n",
      "[CV 2/5] END logisticregression__C=0.01, logisticregression__solver=saga;, score=0.750 total time=   0.0s\n",
      "[CV 3/5] END logisticregression__C=0.01, logisticregression__solver=saga;, score=0.664 total time=   0.0s\n",
      "[CV 4/5] END logisticregression__C=0.01, logisticregression__solver=saga;, score=0.804 total time=   0.0s\n",
      "[CV 5/5] END logisticregression__C=0.01, logisticregression__solver=saga;, score=0.673 total time=   0.0s\n",
      "[CV 1/5] END logisticregression__C=0.05, logisticregression__solver=liblinear;, score=0.685 total time=   0.0s\n",
      "[CV 2/5] END logisticregression__C=0.05, logisticregression__solver=liblinear;, score=0.731 total time=   0.0s\n",
      "[CV 3/5] END logisticregression__C=0.05, logisticregression__solver=liblinear;, score=0.710 total time=   0.0s\n",
      "[CV 4/5] END logisticregression__C=0.05, logisticregression__solver=liblinear;, score=0.729 total time=   0.0s\n",
      "[CV 5/5] END logisticregression__C=0.05, logisticregression__solver=liblinear;, score=0.710 total time=   0.0s\n",
      "[CV 1/5] END logisticregression__C=0.05, logisticregression__solver=newton-cg;, score=0.750 total time=   0.0s\n",
      "[CV 2/5] END logisticregression__C=0.05, logisticregression__solver=newton-cg;, score=0.750 total time=   0.0s\n",
      "[CV 3/5] END logisticregression__C=0.05, logisticregression__solver=newton-cg;, score=0.673 total time=   0.0s\n",
      "[CV 4/5] END logisticregression__C=0.05, logisticregression__solver=newton-cg;, score=0.785 total time=   0.0s\n",
      "[CV 5/5] END logisticregression__C=0.05, logisticregression__solver=newton-cg;, score=0.673 total time=   0.0s\n",
      "[CV 1/5] END logisticregression__C=0.05, logisticregression__solver=lbfgs;, score=0.750 total time=   0.0s\n",
      "[CV 2/5] END logisticregression__C=0.05, logisticregression__solver=lbfgs;, score=0.750 total time=   0.0s\n",
      "[CV 3/5] END logisticregression__C=0.05, logisticregression__solver=lbfgs;, score=0.673 total time=   0.0s\n",
      "[CV 4/5] END logisticregression__C=0.05, logisticregression__solver=lbfgs;, score=0.785 total time=   0.0s\n",
      "[CV 5/5] END logisticregression__C=0.05, logisticregression__solver=lbfgs;, score=0.673 total time=   0.0s\n",
      "[CV 1/5] END logisticregression__C=0.05, logisticregression__solver=sag;, score=0.750 total time=   0.0s\n",
      "[CV 2/5] END logisticregression__C=0.05, logisticregression__solver=sag;, score=0.750 total time=   0.0s\n",
      "[CV 3/5] END logisticregression__C=0.05, logisticregression__solver=sag;, score=0.673 total time=   0.0s\n",
      "[CV 4/5] END logisticregression__C=0.05, logisticregression__solver=sag;, score=0.785 total time=   0.0s\n",
      "[CV 5/5] END logisticregression__C=0.05, logisticregression__solver=sag;, score=0.673 total time=   0.0s\n",
      "[CV 1/5] END logisticregression__C=0.05, logisticregression__solver=saga;, score=0.750 total time=   0.0s\n",
      "[CV 2/5] END logisticregression__C=0.05, logisticregression__solver=saga;, score=0.750 total time=   0.0s\n",
      "[CV 3/5] END logisticregression__C=0.05, logisticregression__solver=saga;, score=0.673 total time=   0.0s\n",
      "[CV 4/5] END logisticregression__C=0.05, logisticregression__solver=saga;, score=0.785 total time=   0.0s\n",
      "[CV 5/5] END logisticregression__C=0.05, logisticregression__solver=saga;, score=0.673 total time=   0.0s\n",
      "[CV 1/5] END logisticregression__C=0.1, logisticregression__solver=liblinear;, score=0.722 total time=   0.0s\n",
      "[CV 2/5] END logisticregression__C=0.1, logisticregression__solver=liblinear;, score=0.759 total time=   0.0s\n",
      "[CV 3/5] END logisticregression__C=0.1, logisticregression__solver=liblinear;, score=0.692 total time=   0.0s\n",
      "[CV 4/5] END logisticregression__C=0.1, logisticregression__solver=liblinear;, score=0.748 total time=   0.0s\n",
      "[CV 5/5] END logisticregression__C=0.1, logisticregression__solver=liblinear;, score=0.720 total time=   0.0s\n",
      "[CV 1/5] END logisticregression__C=0.1, logisticregression__solver=newton-cg;, score=0.750 total time=   0.0s\n",
      "[CV 2/5] END logisticregression__C=0.1, logisticregression__solver=newton-cg;, score=0.769 total time=   0.1s\n",
      "[CV 3/5] END logisticregression__C=0.1, logisticregression__solver=newton-cg;, score=0.682 total time=   0.0s\n",
      "[CV 4/5] END logisticregression__C=0.1, logisticregression__solver=newton-cg;, score=0.776 total time=   0.0s\n",
      "[CV 5/5] END logisticregression__C=0.1, logisticregression__solver=newton-cg;, score=0.673 total time=   0.0s\n",
      "[CV 1/5] END logisticregression__C=0.1, logisticregression__solver=lbfgs;, score=0.750 total time=   0.0s\n",
      "[CV 2/5] END logisticregression__C=0.1, logisticregression__solver=lbfgs;, score=0.769 total time=   0.0s\n",
      "[CV 3/5] END logisticregression__C=0.1, logisticregression__solver=lbfgs;, score=0.682 total time=   0.0s\n",
      "[CV 4/5] END logisticregression__C=0.1, logisticregression__solver=lbfgs;, score=0.776 total time=   0.0s\n",
      "[CV 5/5] END logisticregression__C=0.1, logisticregression__solver=lbfgs;, score=0.673 total time=   0.0s\n",
      "[CV 1/5] END logisticregression__C=0.1, logisticregression__solver=sag;, score=0.750 total time=   0.0s\n",
      "[CV 2/5] END logisticregression__C=0.1, logisticregression__solver=sag;, score=0.769 total time=   0.0s\n",
      "[CV 3/5] END logisticregression__C=0.1, logisticregression__solver=sag;, score=0.682 total time=   0.0s\n",
      "[CV 4/5] END logisticregression__C=0.1, logisticregression__solver=sag;, score=0.776 total time=   0.0s\n",
      "[CV 5/5] END logisticregression__C=0.1, logisticregression__solver=sag;, score=0.673 total time=   0.0s\n",
      "[CV 1/5] END logisticregression__C=0.1, logisticregression__solver=saga;, score=0.750 total time=   0.0s\n",
      "[CV 2/5] END logisticregression__C=0.1, logisticregression__solver=saga;, score=0.769 total time=   0.0s\n",
      "[CV 3/5] END logisticregression__C=0.1, logisticregression__solver=saga;, score=0.682 total time=   0.0s\n",
      "[CV 4/5] END logisticregression__C=0.1, logisticregression__solver=saga;, score=0.776 total time=   0.0s\n",
      "[CV 5/5] END logisticregression__C=0.1, logisticregression__solver=saga;, score=0.673 total time=   0.0s\n",
      "[CV 1/5] END logisticregression__C=0.5, logisticregression__solver=liblinear;, score=0.731 total time=   0.0s\n",
      "[CV 2/5] END logisticregression__C=0.5, logisticregression__solver=liblinear;, score=0.778 total time=   0.0s\n",
      "[CV 3/5] END logisticregression__C=0.5, logisticregression__solver=liblinear;, score=0.729 total time=   0.0s\n",
      "[CV 4/5] END logisticregression__C=0.5, logisticregression__solver=liblinear;, score=0.757 total time=   0.0s\n",
      "[CV 5/5] END logisticregression__C=0.5, logisticregression__solver=liblinear;, score=0.710 total time=   0.0s\n",
      "[CV 1/5] END logisticregression__C=0.5, logisticregression__solver=newton-cg;, score=0.731 total time=   0.0s\n",
      "[CV 2/5] END logisticregression__C=0.5, logisticregression__solver=newton-cg;, score=0.778 total time=   0.0s\n",
      "[CV 3/5] END logisticregression__C=0.5, logisticregression__solver=newton-cg;, score=0.710 total time=   0.0s\n",
      "[CV 4/5] END logisticregression__C=0.5, logisticregression__solver=newton-cg;, score=0.776 total time=   0.0s\n",
      "[CV 5/5] END logisticregression__C=0.5, logisticregression__solver=newton-cg;, score=0.729 total time=   0.0s\n",
      "[CV 1/5] END logisticregression__C=0.5, logisticregression__solver=lbfgs;, score=0.731 total time=   0.0s\n",
      "[CV 2/5] END logisticregression__C=0.5, logisticregression__solver=lbfgs;, score=0.778 total time=   0.0s\n",
      "[CV 3/5] END logisticregression__C=0.5, logisticregression__solver=lbfgs;, score=0.710 total time=   0.0s\n",
      "[CV 4/5] END logisticregression__C=0.5, logisticregression__solver=lbfgs;, score=0.776 total time=   0.0s\n",
      "[CV 5/5] END logisticregression__C=0.5, logisticregression__solver=lbfgs;, score=0.729 total time=   0.0s\n",
      "[CV 1/5] END logisticregression__C=0.5, logisticregression__solver=sag;, score=0.731 total time=   0.0s\n",
      "[CV 2/5] END logisticregression__C=0.5, logisticregression__solver=sag;, score=0.778 total time=   0.0s\n",
      "[CV 3/5] END logisticregression__C=0.5, logisticregression__solver=sag;, score=0.710 total time=   0.1s\n",
      "[CV 4/5] END logisticregression__C=0.5, logisticregression__solver=sag;, score=0.776 total time=   0.0s\n",
      "[CV 5/5] END logisticregression__C=0.5, logisticregression__solver=sag;, score=0.729 total time=   0.0s\n",
      "[CV 1/5] END logisticregression__C=0.5, logisticregression__solver=saga;, score=0.731 total time=   0.0s\n",
      "[CV 2/5] END logisticregression__C=0.5, logisticregression__solver=saga;, score=0.778 total time=   0.0s\n",
      "[CV 3/5] END logisticregression__C=0.5, logisticregression__solver=saga;, score=0.710 total time=   0.0s\n",
      "[CV 4/5] END logisticregression__C=0.5, logisticregression__solver=saga;, score=0.776 total time=   0.0s\n",
      "[CV 5/5] END logisticregression__C=0.5, logisticregression__solver=saga;, score=0.729 total time=   0.0s\n",
      "[CV 1/5] END logisticregression__C=1, logisticregression__solver=liblinear;, score=0.750 total time=   0.0s\n",
      "[CV 2/5] END logisticregression__C=1, logisticregression__solver=liblinear;, score=0.778 total time=   0.0s\n",
      "[CV 3/5] END logisticregression__C=1, logisticregression__solver=liblinear;, score=0.729 total time=   0.0s\n",
      "[CV 4/5] END logisticregression__C=1, logisticregression__solver=liblinear;, score=0.766 total time=   0.1s\n",
      "[CV 5/5] END logisticregression__C=1, logisticregression__solver=liblinear;, score=0.720 total time=   0.0s\n",
      "[CV 1/5] END logisticregression__C=1, logisticregression__solver=newton-cg;, score=0.722 total time=   0.0s\n",
      "[CV 2/5] END logisticregression__C=1, logisticregression__solver=newton-cg;, score=0.787 total time=   0.0s\n",
      "[CV 3/5] END logisticregression__C=1, logisticregression__solver=newton-cg;, score=0.720 total time=   0.0s\n",
      "[CV 4/5] END logisticregression__C=1, logisticregression__solver=newton-cg;, score=0.766 total time=   0.0s\n",
      "[CV 5/5] END logisticregression__C=1, logisticregression__solver=newton-cg;, score=0.738 total time=   0.0s\n",
      "[CV 1/5] END logisticregression__C=1, logisticregression__solver=lbfgs;, score=0.722 total time=   0.0s\n",
      "[CV 2/5] END logisticregression__C=1, logisticregression__solver=lbfgs;, score=0.787 total time=   0.0s\n",
      "[CV 3/5] END logisticregression__C=1, logisticregression__solver=lbfgs;, score=0.720 total time=   0.0s\n",
      "[CV 4/5] END logisticregression__C=1, logisticregression__solver=lbfgs;, score=0.766 total time=   0.0s\n",
      "[CV 5/5] END logisticregression__C=1, logisticregression__solver=lbfgs;, score=0.738 total time=   0.1s\n",
      "[CV 1/5] END logisticregression__C=1, logisticregression__solver=sag;, score=0.722 total time=   0.0s\n",
      "[CV 2/5] END logisticregression__C=1, logisticregression__solver=sag;, score=0.787 total time=   0.0s\n",
      "[CV 3/5] END logisticregression__C=1, logisticregression__solver=sag;, score=0.720 total time=   0.0s\n",
      "[CV 4/5] END logisticregression__C=1, logisticregression__solver=sag;, score=0.766 total time=   0.0s\n",
      "[CV 5/5] END logisticregression__C=1, logisticregression__solver=sag;, score=0.738 total time=   0.0s\n",
      "[CV 1/5] END logisticregression__C=1, logisticregression__solver=saga;, score=0.722 total time=   0.0s\n",
      "[CV 2/5] END logisticregression__C=1, logisticregression__solver=saga;, score=0.787 total time=   0.0s\n",
      "[CV 3/5] END logisticregression__C=1, logisticregression__solver=saga;, score=0.720 total time=   0.0s\n",
      "[CV 4/5] END logisticregression__C=1, logisticregression__solver=saga;, score=0.766 total time=   0.0s\n",
      "[CV 5/5] END logisticregression__C=1, logisticregression__solver=saga;, score=0.738 total time=   0.0s\n",
      "[CV 1/5] END logisticregression__C=5, logisticregression__solver=liblinear;, score=0.741 total time=   0.0s\n",
      "[CV 2/5] END logisticregression__C=5, logisticregression__solver=liblinear;, score=0.769 total time=   0.0s\n",
      "[CV 3/5] END logisticregression__C=5, logisticregression__solver=liblinear;, score=0.729 total time=   0.0s\n",
      "[CV 4/5] END logisticregression__C=5, logisticregression__solver=liblinear;, score=0.766 total time=   0.0s\n",
      "[CV 5/5] END logisticregression__C=5, logisticregression__solver=liblinear;, score=0.757 total time=   0.0s\n",
      "[CV 1/5] END logisticregression__C=5, logisticregression__solver=newton-cg;, score=0.731 total time=   0.0s\n",
      "[CV 2/5] END logisticregression__C=5, logisticregression__solver=newton-cg;, score=0.759 total time=   0.0s\n",
      "[CV 3/5] END logisticregression__C=5, logisticregression__solver=newton-cg;, score=0.729 total time=   0.0s\n",
      "[CV 4/5] END logisticregression__C=5, logisticregression__solver=newton-cg;, score=0.766 total time=   0.0s\n",
      "[CV 5/5] END logisticregression__C=5, logisticregression__solver=newton-cg;, score=0.757 total time=   0.0s\n",
      "[CV 1/5] END logisticregression__C=5, logisticregression__solver=lbfgs;, score=0.731 total time=   0.0s\n",
      "[CV 2/5] END logisticregression__C=5, logisticregression__solver=lbfgs;, score=0.759 total time=   0.0s\n",
      "[CV 3/5] END logisticregression__C=5, logisticregression__solver=lbfgs;, score=0.729 total time=   0.0s\n",
      "[CV 4/5] END logisticregression__C=5, logisticregression__solver=lbfgs;, score=0.766 total time=   0.0s\n",
      "[CV 5/5] END logisticregression__C=5, logisticregression__solver=lbfgs;, score=0.757 total time=   0.0s\n",
      "[CV 1/5] END logisticregression__C=5, logisticregression__solver=sag;, score=0.731 total time=   0.0s\n",
      "[CV 2/5] END logisticregression__C=5, logisticregression__solver=sag;, score=0.759 total time=   0.0s\n",
      "[CV 3/5] END logisticregression__C=5, logisticregression__solver=sag;, score=0.729 total time=   0.0s\n",
      "[CV 4/5] END logisticregression__C=5, logisticregression__solver=sag;, score=0.766 total time=   0.0s\n",
      "[CV 5/5] END logisticregression__C=5, logisticregression__solver=sag;, score=0.757 total time=   0.0s\n",
      "[CV 1/5] END logisticregression__C=5, logisticregression__solver=saga;, score=0.731 total time=   0.0s\n",
      "[CV 2/5] END logisticregression__C=5, logisticregression__solver=saga;, score=0.759 total time=   0.0s\n",
      "[CV 3/5] END logisticregression__C=5, logisticregression__solver=saga;, score=0.729 total time=   0.0s\n",
      "[CV 4/5] END logisticregression__C=5, logisticregression__solver=saga;, score=0.766 total time=   0.0s\n",
      "[CV 5/5] END logisticregression__C=5, logisticregression__solver=saga;, score=0.757 total time=   0.0s\n"
     ]
    },
    {
     "data": {
      "text/plain": [
       "GridSearchCV(cv=5,\n",
       "             estimator=Pipeline(steps=[('columntransformer',\n",
       "                                        ColumnTransformer(transformers=[('minmaxscaler',\n",
       "                                                                         MinMaxScaler(),\n",
       "                                                                         [0, 1,\n",
       "                                                                          2, 3,\n",
       "                                                                          4, 5,\n",
       "                                                                          6,\n",
       "                                                                          7]),\n",
       "                                                                        ('onehotencoder',\n",
       "                                                                         OneHotEncoder(sparse=False),\n",
       "                                                                         [])])),\n",
       "                                       ('smote', SMOTE(random_state=10)),\n",
       "                                       ('logisticregression',\n",
       "                                        LogisticRegression(random_state=10))]),\n",
       "             param_grid={'logisticregression__C': [0.01, 0.05, 0.1, 0.5, 1, 5],\n",
       "                         'logisticregression__solver': ['liblinear',\n",
       "                                                        'newton-cg', 'lbfgs',\n",
       "                                                        'sag', 'saga']},\n",
       "             scoring='accuracy', verbose=3)"
      ]
     },
     "execution_count": 15,
     "metadata": {},
     "output_type": "execute_result"
    }
   ],
   "source": [
    "lr_grid.fit(X_train, y_train)"
   ]
  },
  {
   "cell_type": "code",
   "execution_count": 16,
   "metadata": {},
   "outputs": [
    {
     "name": "stdout",
     "output_type": "stream",
     "text": [
      "{'logisticregression__C': 5, 'logisticregression__solver': 'liblinear'}\n"
     ]
    }
   ],
   "source": [
    "print(lr_grid.best_params_)"
   ]
  },
  {
   "cell_type": "code",
   "execution_count": 17,
   "metadata": {},
   "outputs": [
    {
     "name": "stdout",
     "output_type": "stream",
     "text": [
      "0.7523191415714778\n"
     ]
    }
   ],
   "source": [
    "print(lr_grid.best_score_)"
   ]
  },
  {
   "cell_type": "code",
   "execution_count": 18,
   "metadata": {},
   "outputs": [
    {
     "name": "stdout",
     "output_type": "stream",
     "text": [
      "Training Data Score: 0.7579143389199255\n",
      "Testing Data Score: 0.7359307359307359\n"
     ]
    }
   ],
   "source": [
    "print(f\"Training Data Score: {lr_grid.score(X_train, y_train)}\")\n",
    "print(f\"Testing Data Score: {lr_grid.score(X_test, y_test)}\")"
   ]
  },
  {
   "cell_type": "code",
   "execution_count": 19,
   "metadata": {},
   "outputs": [
    {
     "name": "stdout",
     "output_type": "stream",
     "text": [
      "First 10 Predictions:   [1 0 1 0 0 0 0 0 0 1]\n",
      "First 10 Actual labels: [0, 0, 0, 1, 0, 0, 0, 1, 0, 0]\n"
     ]
    }
   ],
   "source": [
    "predictions = lr_grid.predict(X_test)\n",
    "print(f\"First 10 Predictions:   {predictions[:10]}\")\n",
    "print(f\"First 10 Actual labels: {y_test[:10].tolist()}\")"
   ]
  },
  {
   "cell_type": "code",
   "execution_count": 20,
   "metadata": {},
   "outputs": [
    {
     "data": {
      "text/plain": [
       "preg      4.000\n",
       "plas    154.000\n",
       "pres     72.000\n",
       "skin     29.000\n",
       "test    126.000\n",
       "mass     31.300\n",
       "pedi      0.338\n",
       "age      37.000\n",
       "Name: 568, dtype: float64"
      ]
     },
     "execution_count": 20,
     "metadata": {},
     "output_type": "execute_result"
    }
   ],
   "source": [
    "X_test.iloc[0]"
   ]
  },
  {
   "cell_type": "code",
   "execution_count": 21,
   "metadata": {},
   "outputs": [
    {
     "data": {
      "text/html": [
       "<div>\n",
       "<style scoped>\n",
       "    .dataframe tbody tr th:only-of-type {\n",
       "        vertical-align: middle;\n",
       "    }\n",
       "\n",
       "    .dataframe tbody tr th {\n",
       "        vertical-align: top;\n",
       "    }\n",
       "\n",
       "    .dataframe thead th {\n",
       "        text-align: right;\n",
       "    }\n",
       "</style>\n",
       "<table border=\"1\" class=\"dataframe\">\n",
       "  <thead>\n",
       "    <tr style=\"text-align: right;\">\n",
       "      <th></th>\n",
       "      <th>Prediction</th>\n",
       "      <th>Actual</th>\n",
       "    </tr>\n",
       "  </thead>\n",
       "  <tbody>\n",
       "    <tr>\n",
       "      <th>0</th>\n",
       "      <td>1</td>\n",
       "      <td>0</td>\n",
       "    </tr>\n",
       "    <tr>\n",
       "      <th>1</th>\n",
       "      <td>0</td>\n",
       "      <td>0</td>\n",
       "    </tr>\n",
       "    <tr>\n",
       "      <th>2</th>\n",
       "      <td>1</td>\n",
       "      <td>0</td>\n",
       "    </tr>\n",
       "    <tr>\n",
       "      <th>3</th>\n",
       "      <td>0</td>\n",
       "      <td>1</td>\n",
       "    </tr>\n",
       "    <tr>\n",
       "      <th>4</th>\n",
       "      <td>0</td>\n",
       "      <td>0</td>\n",
       "    </tr>\n",
       "    <tr>\n",
       "      <th>...</th>\n",
       "      <td>...</td>\n",
       "      <td>...</td>\n",
       "    </tr>\n",
       "    <tr>\n",
       "      <th>226</th>\n",
       "      <td>1</td>\n",
       "      <td>0</td>\n",
       "    </tr>\n",
       "    <tr>\n",
       "      <th>227</th>\n",
       "      <td>1</td>\n",
       "      <td>1</td>\n",
       "    </tr>\n",
       "    <tr>\n",
       "      <th>228</th>\n",
       "      <td>0</td>\n",
       "      <td>0</td>\n",
       "    </tr>\n",
       "    <tr>\n",
       "      <th>229</th>\n",
       "      <td>0</td>\n",
       "      <td>0</td>\n",
       "    </tr>\n",
       "    <tr>\n",
       "      <th>230</th>\n",
       "      <td>0</td>\n",
       "      <td>0</td>\n",
       "    </tr>\n",
       "  </tbody>\n",
       "</table>\n",
       "<p>231 rows × 2 columns</p>\n",
       "</div>"
      ],
      "text/plain": [
       "     Prediction  Actual\n",
       "0             1       0\n",
       "1             0       0\n",
       "2             1       0\n",
       "3             0       1\n",
       "4             0       0\n",
       "..          ...     ...\n",
       "226           1       0\n",
       "227           1       1\n",
       "228           0       0\n",
       "229           0       0\n",
       "230           0       0\n",
       "\n",
       "[231 rows x 2 columns]"
      ]
     },
     "execution_count": 21,
     "metadata": {},
     "output_type": "execute_result"
    }
   ],
   "source": [
    "pd.DataFrame({\"Prediction\": predictions, \"Actual\": y_test}).reset_index(drop=True)"
   ]
  },
  {
   "cell_type": "code",
   "execution_count": 22,
   "metadata": {},
   "outputs": [
    {
     "name": "stdout",
     "output_type": "stream",
     "text": [
      "[[109  35]\n",
      " [ 26  61]]\n"
     ]
    }
   ],
   "source": [
    "cm = confusion_matrix(y_test, predictions)\n",
    "print(cm)"
   ]
  },
  {
   "cell_type": "code",
   "execution_count": 23,
   "metadata": {},
   "outputs": [
    {
     "name": "stdout",
     "output_type": "stream",
     "text": [
      "[[0.76 0.24]\n",
      " [0.3  0.7 ]]\n"
     ]
    }
   ],
   "source": [
    "cm = np.around(cm / cm.sum(axis=1)[:, np.newaxis], 2)\n",
    "print(cm)"
   ]
  },
  {
   "cell_type": "code",
   "execution_count": 24,
   "metadata": {},
   "outputs": [
    {
     "name": "stdout",
     "output_type": "stream",
     "text": [
      "              precision    recall  f1-score   support\n",
      "\n",
      "           0       0.81      0.76      0.78       144\n",
      "           1       0.64      0.70      0.67        87\n",
      "\n",
      "    accuracy                           0.74       231\n",
      "   macro avg       0.72      0.73      0.72       231\n",
      "weighted avg       0.74      0.74      0.74       231\n",
      "\n"
     ]
    }
   ],
   "source": [
    "print(classification_report(y_test, predictions))"
   ]
  },
  {
   "cell_type": "code",
   "execution_count": 25,
   "metadata": {},
   "outputs": [],
   "source": [
    "pred = lr_grid.predict(X_test[:1])"
   ]
  },
  {
   "cell_type": "code",
   "execution_count": 26,
   "metadata": {},
   "outputs": [
    {
     "name": "stdout",
     "output_type": "stream",
     "text": [
      "Predicted classes: [1]\n",
      "Actual Labels: [0]\n"
     ]
    }
   ],
   "source": [
    "print(f\"Predicted classes: {pred}\")\n",
    "print(f\"Actual Labels: {list(y_test[:1])}\")"
   ]
  },
  {
   "cell_type": "code",
   "execution_count": 27,
   "metadata": {},
   "outputs": [
    {
     "data": {
      "text/plain": [
       "['../models/challa_logistic_regression.sav']"
      ]
     },
     "execution_count": 27,
     "metadata": {},
     "output_type": "execute_result"
    }
   ],
   "source": [
    "import joblib\n",
    "\n",
    "filename = '../models/challa_logistic_regression.sav'\n",
    "joblib.dump(lr_grid, filename)"
   ]
  },
  {
   "cell_type": "code",
   "execution_count": 28,
   "metadata": {},
   "outputs": [
    {
     "name": "stdout",
     "output_type": "stream",
     "text": [
      "0.7359307359307359\n"
     ]
    }
   ],
   "source": [
    "lr_model = joblib.load(filename)\n",
    "print(lr_model.score(X_test, y_test))"
   ]
  },
  {
   "cell_type": "code",
   "execution_count": 29,
   "metadata": {},
   "outputs": [],
   "source": [
    "from sklearn.metrics import accuracy_score, precision_score, recall_score, f1_score, confusion_matrix"
   ]
  },
  {
   "cell_type": "code",
   "execution_count": 30,
   "metadata": {},
   "outputs": [],
   "source": [
    "# defining a function to compute different metrics to check performance of a classification model built using sklearn\n",
    "def model_performance_classification_sklearn(model, predictors, target):\n",
    "    \"\"\"\n",
    "    Function to compute different metrics to check classification model performance\n",
    "\n",
    "    model: classifier\n",
    "    predictors: independent variables\n",
    "    target: dependent variable\n",
    "    \"\"\"\n",
    "\n",
    "    # predicting using the independent variables\n",
    "    pred = model.predict(predictors)\n",
    "\n",
    "    acc = accuracy_score(target, pred)  # to compute Accuracy\n",
    "    recall = recall_score(target, pred)  # to compute Recall\n",
    "    precision = precision_score(target, pred)  # to compute Precision\n",
    "    f1 = f1_score(target, pred)  # to compute F1-score\n",
    "\n",
    "    # creating a dataframe of metrics\n",
    "    df_perf = pd.DataFrame(\n",
    "        {\"Accuracy\": acc, \"Recall\": recall, \"Precision\": precision, \"F1\": f1,},\n",
    "        index=[0],\n",
    "    )\n",
    "\n",
    "    return df_perf"
   ]
  },
  {
   "cell_type": "code",
   "execution_count": 31,
   "metadata": {},
   "outputs": [],
   "source": [
    "def confusion_matrix_sklearn(model, predictors, target):\n",
    "    \"\"\"\n",
    "    To plot the confusion_matrix with percentages\n",
    "\n",
    "    model: classifier\n",
    "    predictors: independent variables\n",
    "    target: dependent variable\n",
    "    \"\"\"\n",
    "    y_pred = model.predict(predictors)\n",
    "    cm = confusion_matrix(target, y_pred)\n",
    "    labels = np.asarray(\n",
    "        [\n",
    "            [\"{0:0.0f}\".format(item) + \"\\n{0:.2%}\".format(item / cm.flatten().sum())]\n",
    "            for item in cm.flatten()\n",
    "        ]\n",
    "    ).reshape(2, 2)\n",
    "\n",
    "    plt.figure(figsize=(6, 4))\n",
    "    sns.heatmap(cm, annot=labels, fmt=\"\")\n",
    "    plt.ylabel(\"True label\")\n",
    "    plt.xlabel(\"Predicted label\")"
   ]
  },
  {
   "cell_type": "code",
   "execution_count": 32,
   "metadata": {},
   "outputs": [
    {
     "data": {
      "text/html": [
       "<div>\n",
       "<style scoped>\n",
       "    .dataframe tbody tr th:only-of-type {\n",
       "        vertical-align: middle;\n",
       "    }\n",
       "\n",
       "    .dataframe tbody tr th {\n",
       "        vertical-align: top;\n",
       "    }\n",
       "\n",
       "    .dataframe thead th {\n",
       "        text-align: right;\n",
       "    }\n",
       "</style>\n",
       "<table border=\"1\" class=\"dataframe\">\n",
       "  <thead>\n",
       "    <tr style=\"text-align: right;\">\n",
       "      <th></th>\n",
       "      <th>Accuracy</th>\n",
       "      <th>Recall</th>\n",
       "      <th>Precision</th>\n",
       "      <th>F1</th>\n",
       "    </tr>\n",
       "  </thead>\n",
       "  <tbody>\n",
       "    <tr>\n",
       "      <th>0</th>\n",
       "      <td>0.757914</td>\n",
       "      <td>0.729282</td>\n",
       "      <td>0.619718</td>\n",
       "      <td>0.670051</td>\n",
       "    </tr>\n",
       "  </tbody>\n",
       "</table>\n",
       "</div>"
      ],
      "text/plain": [
       "   Accuracy    Recall  Precision        F1\n",
       "0  0.757914  0.729282   0.619718  0.670051"
      ]
     },
     "execution_count": 32,
     "metadata": {},
     "output_type": "execute_result"
    }
   ],
   "source": [
    "LR_perf_train = model_performance_classification_sklearn(lr_grid, X_train, y_train)\n",
    "LR_perf_train"
   ]
  },
  {
   "cell_type": "code",
   "execution_count": 33,
   "metadata": {},
   "outputs": [
    {
     "data": {
      "image/png": "[encoded data removed]",
      "text/plain": [
       "<Figure size 600x400 with 2 Axes>"
      ]
     },
     "metadata": {},
     "output_type": "display_data"
    }
   ],
   "source": [
    "confusion_matrix_sklearn(lr_grid, X_train, y_train)"
   ]
  },
  {
   "cell_type": "code",
   "execution_count": 34,
   "metadata": {},
   "outputs": [
    {
     "data": {
      "text/html": [
       "<div>\n",
       "<style scoped>\n",
       "    .dataframe tbody tr th:only-of-type {\n",
       "        vertical-align: middle;\n",
       "    }\n",
       "\n",
       "    .dataframe tbody tr th {\n",
       "        vertical-align: top;\n",
       "    }\n",
       "\n",
       "    .dataframe thead th {\n",
       "        text-align: right;\n",
       "    }\n",
       "</style>\n",
       "<table border=\"1\" class=\"dataframe\">\n",
       "  <thead>\n",
       "    <tr style=\"text-align: right;\">\n",
       "      <th></th>\n",
       "      <th>Accuracy</th>\n",
       "      <th>Recall</th>\n",
       "      <th>Precision</th>\n",
       "      <th>F1</th>\n",
       "    </tr>\n",
       "  </thead>\n",
       "  <tbody>\n",
       "    <tr>\n",
       "      <th>0</th>\n",
       "      <td>0.735931</td>\n",
       "      <td>0.701149</td>\n",
       "      <td>0.635417</td>\n",
       "      <td>0.666667</td>\n",
       "    </tr>\n",
       "  </tbody>\n",
       "</table>\n",
       "</div>"
      ],
      "text/plain": [
       "   Accuracy    Recall  Precision        F1\n",
       "0  0.735931  0.701149   0.635417  0.666667"
      ]
     },
     "execution_count": 34,
     "metadata": {},
     "output_type": "execute_result"
    }
   ],
   "source": [
    "LR_perf_test = model_performance_classification_sklearn(lr_grid, X_test, y_test)\n",
    "LR_perf_test"
   ]
  },
  {
   "cell_type": "code",
   "execution_count": 35,
   "metadata": {},
   "outputs": [
    {
     "data": {
      "image/png": "[encoded data removed]",
      "text/plain": [
       "<Figure size 600x400 with 2 Axes>"
      ]
     },
     "metadata": {},
     "output_type": "display_data"
    }
   ],
   "source": [
    "confusion_matrix_sklearn(lr_grid, X_test, y_test)"
   ]
  },
  {
   "cell_type": "code",
   "execution_count": 36,
   "metadata": {},
   "outputs": [
    {
     "data": {
      "text/html": [
       "<div>\n",
       "<style scoped>\n",
       "    .dataframe tbody tr th:only-of-type {\n",
       "        vertical-align: middle;\n",
       "    }\n",
       "\n",
       "    .dataframe tbody tr th {\n",
       "        vertical-align: top;\n",
       "    }\n",
       "\n",
       "    .dataframe thead th {\n",
       "        text-align: right;\n",
       "    }\n",
       "</style>\n",
       "<table border=\"1\" class=\"dataframe\">\n",
       "  <thead>\n",
       "    <tr style=\"text-align: right;\">\n",
       "      <th></th>\n",
       "      <th>Metrics_names</th>\n",
       "      <th>Testing_Metrics</th>\n",
       "    </tr>\n",
       "  </thead>\n",
       "  <tbody>\n",
       "    <tr>\n",
       "      <th>0</th>\n",
       "      <td>Accuracy</td>\n",
       "      <td>0.735931</td>\n",
       "    </tr>\n",
       "    <tr>\n",
       "      <th>1</th>\n",
       "      <td>Recall</td>\n",
       "      <td>0.701149</td>\n",
       "    </tr>\n",
       "    <tr>\n",
       "      <th>2</th>\n",
       "      <td>Precision</td>\n",
       "      <td>0.635417</td>\n",
       "    </tr>\n",
       "    <tr>\n",
       "      <th>3</th>\n",
       "      <td>F1</td>\n",
       "      <td>0.666667</td>\n",
       "    </tr>\n",
       "  </tbody>\n",
       "</table>\n",
       "</div>"
      ],
      "text/plain": [
       "  Metrics_names  Testing_Metrics\n",
       "0      Accuracy         0.735931\n",
       "1        Recall         0.701149\n",
       "2     Precision         0.635417\n",
       "3            F1         0.666667"
      ]
     },
     "execution_count": 36,
     "metadata": {},
     "output_type": "execute_result"
    }
   ],
   "source": [
    "df1 = pd.DataFrame(model_performance_classification_sklearn(lr_grid, X_test, y_test).T).reset_index().rename(columns={'index':'Metrics_names',0:'Testing_Metrics'})\n",
    "df1"
   ]
  },
  {
   "cell_type": "code",
   "execution_count": 37,
   "metadata": {},
   "outputs": [
    {
     "data": {
      "text/html": [
       "<div>\n",
       "<style scoped>\n",
       "    .dataframe tbody tr th:only-of-type {\n",
       "        vertical-align: middle;\n",
       "    }\n",
       "\n",
       "    .dataframe tbody tr th {\n",
       "        vertical-align: top;\n",
       "    }\n",
       "\n",
       "    .dataframe thead th {\n",
       "        text-align: right;\n",
       "    }\n",
       "</style>\n",
       "<table border=\"1\" class=\"dataframe\">\n",
       "  <thead>\n",
       "    <tr style=\"text-align: right;\">\n",
       "      <th></th>\n",
       "      <th>Metrics_names</th>\n",
       "      <th>Training_Metrics</th>\n",
       "    </tr>\n",
       "  </thead>\n",
       "  <tbody>\n",
       "    <tr>\n",
       "      <th>0</th>\n",
       "      <td>Accuracy</td>\n",
       "      <td>0.757914</td>\n",
       "    </tr>\n",
       "    <tr>\n",
       "      <th>1</th>\n",
       "      <td>Recall</td>\n",
       "      <td>0.729282</td>\n",
       "    </tr>\n",
       "    <tr>\n",
       "      <th>2</th>\n",
       "      <td>Precision</td>\n",
       "      <td>0.619718</td>\n",
       "    </tr>\n",
       "    <tr>\n",
       "      <th>3</th>\n",
       "      <td>F1</td>\n",
       "      <td>0.670051</td>\n",
       "    </tr>\n",
       "  </tbody>\n",
       "</table>\n",
       "</div>"
      ],
      "text/plain": [
       "  Metrics_names  Training_Metrics\n",
       "0      Accuracy          0.757914\n",
       "1        Recall          0.729282\n",
       "2     Precision          0.619718\n",
       "3            F1          0.670051"
      ]
     },
     "execution_count": 37,
     "metadata": {},
     "output_type": "execute_result"
    }
   ],
   "source": [
    "df2 = pd.DataFrame(model_performance_classification_sklearn(lr_grid, X_train, y_train).T).reset_index().rename(columns={'index':'Metrics_names',0:'Training_Metrics'})\n",
    "df2"
   ]
  },
  {
   "cell_type": "code",
   "execution_count": 38,
   "metadata": {},
   "outputs": [
    {
     "data": {
      "text/html": [
       "<div>\n",
       "<style scoped>\n",
       "    .dataframe tbody tr th:only-of-type {\n",
       "        vertical-align: middle;\n",
       "    }\n",
       "\n",
       "    .dataframe tbody tr th {\n",
       "        vertical-align: top;\n",
       "    }\n",
       "\n",
       "    .dataframe thead th {\n",
       "        text-align: right;\n",
       "    }\n",
       "</style>\n",
       "<table border=\"1\" class=\"dataframe\">\n",
       "  <thead>\n",
       "    <tr style=\"text-align: right;\">\n",
       "      <th></th>\n",
       "      <th>Metrics_names</th>\n",
       "      <th>Training_Metrics</th>\n",
       "      <th>Testing_Metrics</th>\n",
       "    </tr>\n",
       "  </thead>\n",
       "  <tbody>\n",
       "    <tr>\n",
       "      <th>0</th>\n",
       "      <td>Accuracy</td>\n",
       "      <td>0.757914</td>\n",
       "      <td>0.735931</td>\n",
       "    </tr>\n",
       "    <tr>\n",
       "      <th>1</th>\n",
       "      <td>Recall</td>\n",
       "      <td>0.729282</td>\n",
       "      <td>0.701149</td>\n",
       "    </tr>\n",
       "    <tr>\n",
       "      <th>2</th>\n",
       "      <td>Precision</td>\n",
       "      <td>0.619718</td>\n",
       "      <td>0.635417</td>\n",
       "    </tr>\n",
       "    <tr>\n",
       "      <th>3</th>\n",
       "      <td>F1</td>\n",
       "      <td>0.670051</td>\n",
       "      <td>0.666667</td>\n",
       "    </tr>\n",
       "  </tbody>\n",
       "</table>\n",
       "</div>"
      ],
      "text/plain": [
       "  Metrics_names  Training_Metrics  Testing_Metrics\n",
       "0      Accuracy          0.757914         0.735931\n",
       "1        Recall          0.729282         0.701149\n",
       "2     Precision          0.619718         0.635417\n",
       "3            F1          0.670051         0.666667"
      ]
     },
     "metadata": {},
     "output_type": "display_data"
    }
   ],
   "source": [
    "Output_df = pd.merge(df2, df1, on='Metrics_names')\n",
    "display(Output_df)"
   ]
  },
  {
   "cell_type": "code",
   "execution_count": 39,
   "metadata": {},
   "outputs": [
    {
     "name": "stdout",
     "output_type": "stream",
     "text": [
      "Diabetes diagnosis probability is 0.23656984216534543\n"
     ]
    }
   ],
   "source": [
    "print(\"Diabetes diagnosis probability is {}\".format(lr_grid.predict_proba(X_train)[:, 1][0]))"
   ]
  },
  {
   "cell_type": "code",
   "execution_count": 40,
   "metadata": {},
   "outputs": [
    {
     "data": {
      "text/html": [
       "<div>\n",
       "<style scoped>\n",
       "    .dataframe tbody tr th:only-of-type {\n",
       "        vertical-align: middle;\n",
       "    }\n",
       "\n",
       "    .dataframe tbody tr th {\n",
       "        vertical-align: top;\n",
       "    }\n",
       "\n",
       "    .dataframe thead th {\n",
       "        text-align: right;\n",
       "    }\n",
       "</style>\n",
       "<table border=\"1\" class=\"dataframe\">\n",
       "  <thead>\n",
       "    <tr style=\"text-align: right;\">\n",
       "      <th></th>\n",
       "      <th>preg</th>\n",
       "      <th>plas</th>\n",
       "      <th>pres</th>\n",
       "      <th>skin</th>\n",
       "      <th>test</th>\n",
       "      <th>mass</th>\n",
       "      <th>pedi</th>\n",
       "      <th>age</th>\n",
       "    </tr>\n",
       "  </thead>\n",
       "  <tbody>\n",
       "    <tr>\n",
       "      <th>491</th>\n",
       "      <td>2.0</td>\n",
       "      <td>89.0</td>\n",
       "      <td>90.000000</td>\n",
       "      <td>30.0</td>\n",
       "      <td>30.5</td>\n",
       "      <td>33.500000</td>\n",
       "      <td>0.292</td>\n",
       "      <td>42.0</td>\n",
       "    </tr>\n",
       "    <tr>\n",
       "      <th>69</th>\n",
       "      <td>4.0</td>\n",
       "      <td>146.0</td>\n",
       "      <td>85.000000</td>\n",
       "      <td>27.0</td>\n",
       "      <td>100.0</td>\n",
       "      <td>28.900000</td>\n",
       "      <td>0.189</td>\n",
       "      <td>27.0</td>\n",
       "    </tr>\n",
       "    <tr>\n",
       "      <th>667</th>\n",
       "      <td>10.0</td>\n",
       "      <td>111.0</td>\n",
       "      <td>70.000000</td>\n",
       "      <td>27.0</td>\n",
       "      <td>30.5</td>\n",
       "      <td>27.500000</td>\n",
       "      <td>0.141</td>\n",
       "      <td>40.0</td>\n",
       "    </tr>\n",
       "    <tr>\n",
       "      <th>566</th>\n",
       "      <td>1.0</td>\n",
       "      <td>99.0</td>\n",
       "      <td>72.000000</td>\n",
       "      <td>30.0</td>\n",
       "      <td>18.0</td>\n",
       "      <td>38.600000</td>\n",
       "      <td>0.412</td>\n",
       "      <td>21.0</td>\n",
       "    </tr>\n",
       "    <tr>\n",
       "      <th>97</th>\n",
       "      <td>1.0</td>\n",
       "      <td>71.0</td>\n",
       "      <td>48.000000</td>\n",
       "      <td>18.0</td>\n",
       "      <td>76.0</td>\n",
       "      <td>20.400000</td>\n",
       "      <td>0.323</td>\n",
       "      <td>22.0</td>\n",
       "    </tr>\n",
       "    <tr>\n",
       "      <th>...</th>\n",
       "      <td>...</td>\n",
       "      <td>...</td>\n",
       "      <td>...</td>\n",
       "      <td>...</td>\n",
       "      <td>...</td>\n",
       "      <td>...</td>\n",
       "      <td>...</td>\n",
       "      <td>...</td>\n",
       "    </tr>\n",
       "    <tr>\n",
       "      <th>369</th>\n",
       "      <td>1.0</td>\n",
       "      <td>133.0</td>\n",
       "      <td>102.000000</td>\n",
       "      <td>28.0</td>\n",
       "      <td>140.0</td>\n",
       "      <td>32.800000</td>\n",
       "      <td>0.234</td>\n",
       "      <td>45.0</td>\n",
       "    </tr>\n",
       "    <tr>\n",
       "      <th>320</th>\n",
       "      <td>4.0</td>\n",
       "      <td>129.0</td>\n",
       "      <td>60.000000</td>\n",
       "      <td>12.0</td>\n",
       "      <td>231.0</td>\n",
       "      <td>27.500000</td>\n",
       "      <td>0.527</td>\n",
       "      <td>31.0</td>\n",
       "    </tr>\n",
       "    <tr>\n",
       "      <th>527</th>\n",
       "      <td>3.0</td>\n",
       "      <td>116.0</td>\n",
       "      <td>74.000000</td>\n",
       "      <td>15.0</td>\n",
       "      <td>105.0</td>\n",
       "      <td>26.300000</td>\n",
       "      <td>0.107</td>\n",
       "      <td>24.0</td>\n",
       "    </tr>\n",
       "    <tr>\n",
       "      <th>125</th>\n",
       "      <td>1.0</td>\n",
       "      <td>88.0</td>\n",
       "      <td>72.386719</td>\n",
       "      <td>42.0</td>\n",
       "      <td>99.0</td>\n",
       "      <td>32.450911</td>\n",
       "      <td>0.496</td>\n",
       "      <td>26.0</td>\n",
       "    </tr>\n",
       "    <tr>\n",
       "      <th>265</th>\n",
       "      <td>5.0</td>\n",
       "      <td>96.0</td>\n",
       "      <td>74.000000</td>\n",
       "      <td>18.0</td>\n",
       "      <td>67.0</td>\n",
       "      <td>33.600000</td>\n",
       "      <td>0.997</td>\n",
       "      <td>43.0</td>\n",
       "    </tr>\n",
       "  </tbody>\n",
       "</table>\n",
       "<p>537 rows × 8 columns</p>\n",
       "</div>"
      ],
      "text/plain": [
       "     preg   plas        pres  skin   test       mass   pedi   age\n",
       "491   2.0   89.0   90.000000  30.0   30.5  33.500000  0.292  42.0\n",
       "69    4.0  146.0   85.000000  27.0  100.0  28.900000  0.189  27.0\n",
       "667  10.0  111.0   70.000000  27.0   30.5  27.500000  0.141  40.0\n",
       "566   1.0   99.0   72.000000  30.0   18.0  38.600000  0.412  21.0\n",
       "97    1.0   71.0   48.000000  18.0   76.0  20.400000  0.323  22.0\n",
       "..    ...    ...         ...   ...    ...        ...    ...   ...\n",
       "369   1.0  133.0  102.000000  28.0  140.0  32.800000  0.234  45.0\n",
       "320   4.0  129.0   60.000000  12.0  231.0  27.500000  0.527  31.0\n",
       "527   3.0  116.0   74.000000  15.0  105.0  26.300000  0.107  24.0\n",
       "125   1.0   88.0   72.386719  42.0   99.0  32.450911  0.496  26.0\n",
       "265   5.0   96.0   74.000000  18.0   67.0  33.600000  0.997  43.0\n",
       "\n",
       "[537 rows x 8 columns]"
      ]
     },
     "execution_count": 40,
     "metadata": {},
     "output_type": "execute_result"
    }
   ],
   "source": [
    "X_train"
   ]
  },
  {
   "cell_type": "code",
   "execution_count": 41,
   "metadata": {},
   "outputs": [
    {
     "data": {
      "text/plain": [
       "Index(['preg', 'plas', 'pres', 'skin', 'test', 'mass', 'pedi', 'age'], dtype='object')"
      ]
     },
     "execution_count": 41,
     "metadata": {},
     "output_type": "execute_result"
    }
   ],
   "source": [
    "X_train.columns"
   ]
  },
  {
   "cell_type": "code",
   "execution_count": 42,
   "metadata": {},
   "outputs": [
    {
     "data": {
      "text/html": [
       "<div>\n",
       "<style scoped>\n",
       "    .dataframe tbody tr th:only-of-type {\n",
       "        vertical-align: middle;\n",
       "    }\n",
       "\n",
       "    .dataframe tbody tr th {\n",
       "        vertical-align: top;\n",
       "    }\n",
       "\n",
       "    .dataframe thead th {\n",
       "        text-align: right;\n",
       "    }\n",
       "</style>\n",
       "<table border=\"1\" class=\"dataframe\">\n",
       "  <thead>\n",
       "    <tr style=\"text-align: right;\">\n",
       "      <th></th>\n",
       "      <th>preg</th>\n",
       "      <th>plas</th>\n",
       "      <th>pres</th>\n",
       "      <th>skin</th>\n",
       "      <th>test</th>\n",
       "      <th>mass</th>\n",
       "      <th>pedi</th>\n",
       "      <th>age</th>\n",
       "    </tr>\n",
       "  </thead>\n",
       "  <tbody>\n",
       "    <tr>\n",
       "      <th>766</th>\n",
       "      <td>1.0</td>\n",
       "      <td>126.0</td>\n",
       "      <td>60.0</td>\n",
       "      <td>23.0</td>\n",
       "      <td>30.5</td>\n",
       "      <td>30.1</td>\n",
       "      <td>0.349</td>\n",
       "      <td>47.0</td>\n",
       "    </tr>\n",
       "  </tbody>\n",
       "</table>\n",
       "</div>"
      ],
      "text/plain": [
       "     preg   plas  pres  skin  test  mass   pedi   age\n",
       "766   1.0  126.0  60.0  23.0  30.5  30.1  0.349  47.0"
      ]
     },
     "execution_count": 42,
     "metadata": {},
     "output_type": "execute_result"
    }
   ],
   "source": [
    "x_test = pd.DataFrame([X_train.iloc[10]])\n",
    "x_test"
   ]
  },
  {
   "cell_type": "code",
   "execution_count": 43,
   "metadata": {},
   "outputs": [
    {
     "data": {
      "text/plain": [
       "(['preg', 'plas', 'pres', 'skin', 'test', 'mass', 'pedi', 'age'], [])"
      ]
     },
     "execution_count": 43,
     "metadata": {},
     "output_type": "execute_result"
    }
   ],
   "source": [
    "num_colums, cat_columns"
   ]
  },
  {
   "cell_type": "code",
   "execution_count": 44,
   "metadata": {},
   "outputs": [],
   "source": [
    "output = lr_grid.predict_proba(x_test)[0,1]"
   ]
  },
  {
   "cell_type": "code",
   "execution_count": 45,
   "metadata": {},
   "outputs": [
    {
     "name": "stdout",
     "output_type": "stream",
     "text": [
      "The customer is non-diabetic and diabetes detection probability is 0.4860871010982558\n"
     ]
    }
   ],
   "source": [
    "if output > 0.5:\n",
    "    print(\"The customer is diabetic and diabetes prediction probability is {}\".format(output))\n",
    "else:\n",
    "    print(\"The customer is non-diabetic and diabetes detection probability is {}\".format(output))"
   ]
  },
  {
   "cell_type": "code",
   "execution_count": 46,
   "metadata": {},
   "outputs": [
    {
     "data": {
      "text/plain": [
       "{'preg': 1.0,\n",
       " 'plas': 126.0,\n",
       " 'pres': 60.0,\n",
       " 'skin': 23.0,\n",
       " 'test': 30.5,\n",
       " 'mass': 30.1,\n",
       " 'pedi': 0.349,\n",
       " 'age': 47.0}"
      ]
     },
     "execution_count": 46,
     "metadata": {},
     "output_type": "execute_result"
    }
   ],
   "source": [
    "customer = X_train.iloc[10].to_dict()\n",
    "customer"
   ]
  },
  {
   "cell_type": "code",
   "execution_count": null,
   "metadata": {},
   "outputs": [],
   "source": [
    "# customer = X_train.iloc[100].to_dict()\n",
    "# import requests\n",
    "# url = 'https://tel-churn-pred-nx4awh3s5q-nw.a.run.app/predict'\n",
    "# response = requests.post(url, json=customer)\n",
    "# result = response.json()\n",
    "# print(result)"
   ]
  },
  {
   "cell_type": "code",
   "execution_count": 47,
   "metadata": {},
   "outputs": [
    {
     "name": "stdout",
     "output_type": "stream",
     "text": [
      "{'Diabetes_Prediction': 1.0, 'Diabetic_Prediction_Probability': 0.5426637039368889}\n"
     ]
    }
   ],
   "source": [
    "# This is the test code for testing flask app\n",
    "customer = X_train.iloc[100].to_dict()\n",
    "import requests\n",
    "url = 'http://127.0.0.1:8080/predict'\n",
    "response = requests.post(url, json=customer)\n",
    "result = response.json()\n",
    "print(result)"
   ]
  },
  {
   "cell_type": "code",
   "execution_count": null,
   "metadata": {},
   "outputs": [],
   "source": [
    "# This is the test code for testing flask app\n",
    "customer = X_train.iloc[100].to_dict()\n",
    "import requests\n",
    "url = 'http://172.17.0.2:8502/predict'\n",
    "response = requests.post(url, json=customer)\n",
    "result = response.json()\n",
    "print(result)"
   ]
  },
  {
   "cell_type": "code",
   "execution_count": null,
   "metadata": {},
   "outputs": [],
   "source": []
  }
 ],
 "metadata": {
  "kernelspec": {
   "display_name": "base",
   "language": "python",
   "name": "python3"
  },
  "language_info": {
   "codemirror_mode": {
    "name": "ipython",
    "version": 3
   },
   "file_extension": ".py",
   "mimetype": "text/x-python",
   "name": "python",
   "nbconvert_exporter": "python",
   "pygments_lexer": "ipython3",
   "version": "3.7.16"
  },
  "vscode": {
   "interpreter": {
    "hash": "a92114fa7b60a12f374f39c2ea9a996523303352bf2f355fea3b0bbfc5e961da"
   }
  }
 },
 "nbformat": 4,
 "nbformat_minor": 2
}
